{
 "cells": [
  {
   "cell_type": "code",
   "execution_count": null,
   "metadata": {},
   "outputs": [],
   "source": [
    "import pandas as pd\n",
    "import altair as alt\n",
    "import altair_latimes as lat\n",
    "\n",
    "alt.themes.register('latimes', lat.theme)\n",
    "alt.themes.enable('latimes')\n",
    "alt.data_transformers.disable_max_rows()"
   ]
  },
  {
   "cell_type": "code",
   "execution_count": null,
   "metadata": {},
   "outputs": [],
   "source": [
    "data = pd.read_json(\"data/streamingHistory.json\", orient='records')"
   ]
  },
  {
   "cell_type": "code",
   "execution_count": null,
   "metadata": {},
   "outputs": [],
   "source": [
    "data.shape"
   ]
  },
  {
   "cell_type": "code",
   "execution_count": null,
   "metadata": {},
   "outputs": [],
   "source": [
    "alt.Chart(data).mark_tick().encode(\n",
    "    x = 'endTime:T',\n",
    ").properties(\n",
    "    height = 150\n",
    ")"
   ]
  },
  {
   "cell_type": "code",
   "execution_count": null,
   "metadata": {},
   "outputs": [],
   "source": [
    "alt.Chart(data).mark_circle().encode(\n",
    "    x = alt.X('date(endTime)', title = ''),\n",
    "    y = alt.Y(\"month(endTime):O\", title = \"Mes x Día\"),\n",
    "    size = alt.Size(\"count()\", title = \"Número de reproducciones\")\n",
    ").properties(\n",
    "    height = 150\n",
    ")"
   ]
  },
  {
   "cell_type": "code",
   "execution_count": null,
   "metadata": {},
   "outputs": [],
   "source": [
    "alt.Chart(data).mark_circle().encode(\n",
    "    x = alt.X('hours(endTime)', title = ''),\n",
    "    y = alt.Y(\"month(endTime):O\", title = \"Mes x Hora\"),\n",
    "    size = alt.Size(\"count()\", title = \"Número de reproducciones\")\n",
    ").properties(\n",
    "    height = 150\n",
    ")"
   ]
  },
  {
   "cell_type": "code",
   "execution_count": null,
   "metadata": {},
   "outputs": [],
   "source": [
    "alt.Chart(data).mark_circle().encode(\n",
    "    x = alt.X('minutes(endTime)', title = ''),\n",
    "    y = alt.Y(\"month(endTime):O\", title = \"Mes x Minuto\"),\n",
    "    size = alt.Size(\"count()\", title = \"Número de reproducciones\")\n",
    ").properties(\n",
    "    height = 150\n",
    ")"
   ]
  },
  {
   "cell_type": "code",
   "execution_count": null,
   "metadata": {},
   "outputs": [],
   "source": [
    "alt.Chart(data).mark_circle().encode(\n",
    "    x = alt.X('hours(endTime)', title = ''),\n",
    "    y = alt.Y(\"date(endTime):O\", title = \"Dia x Hora\"),\n",
    "    size = alt.Size(\"count()\", title = \"Número de reproducciones\")\n",
    ").properties(\n",
    "    height = 150\n",
    ")"
   ]
  },
  {
   "cell_type": "code",
   "execution_count": null,
   "metadata": {},
   "outputs": [],
   "source": [
    "alt.Chart(data).mark_circle().encode(\n",
    "    x = alt.X('minutes(endTime)', title = ''),\n",
    "    y = alt.Y(\"date(endTime):O\", title = \"Dia x Minuto\"),\n",
    "    size = alt.Size(\"count()\", title = \"Número de reproducciones\")\n",
    ").properties(\n",
    "    height = 150\n",
    ")"
   ]
  },
  {
   "cell_type": "code",
   "execution_count": null,
   "metadata": {},
   "outputs": [],
   "source": [
    "alt.Chart(data).mark_circle().encode(\n",
    "    x = alt.X('minutes(endTime)', title = ''),\n",
    "    y = alt.Y(\"hours(endTime):O\", title = \"Hora x Minuto\"),\n",
    "    size = alt.Size(\"count()\", title = \"Número de reproducciones\")\n",
    ").properties(\n",
    "    height = 150\n",
    ")"
   ]
  },
  {
   "cell_type": "code",
   "execution_count": null,
   "metadata": {},
   "outputs": [],
   "source": [
    "mes = alt.Chart(data).mark_circle().encode(\n",
    "    x = alt.X('month(endTime)', title = 'Mes'),\n",
    "    size = alt.Size(\"count()\", title = \"Número de reproducciones\")\n",
    ").properties(\n",
    "    height = 50\n",
    ")\n",
    "dia = alt.Chart(data).mark_circle().encode(\n",
    "    x = alt.X('date(endTime)', title = 'Día'),\n",
    "    size = alt.Size(\"count()\", title = \"Número de reproducciones\")\n",
    ").properties(\n",
    "    height = 50\n",
    ")\n",
    "hora = alt.Chart(data).mark_circle().encode(\n",
    "    x = alt.X('hours(endTime)', title = 'Hora'),\n",
    "    size = alt.Size(\"count()\", title = \"Número de reproducciones\")\n",
    ").properties(\n",
    "    height = 50\n",
    ")\n",
    "minuto = alt.Chart(data).mark_circle().encode(\n",
    "    x = alt.X('minutes(endTime)', title = 'Minuto'),\n",
    "    size = alt.Size(\"count()\", title = \"Número de reproducciones\")\n",
    ").properties(\n",
    "    height = 50\n",
    ")\n",
    "\n",
    "ticks = alt.Chart(data).mark_tick().encode(\n",
    "    x = 'endTime:T',\n",
    ").properties(height = 50)\n",
    "(ticks & mes & dia & hora & minuto)"
   ]
  },
  {
   "cell_type": "code",
   "execution_count": null,
   "metadata": {},
   "outputs": [],
   "source": [
    "cover = alt.Chart(data).mark_circle(color='#444').encode(\n",
    "    x = alt.X('minutes(endTime)', title = ''),\n",
    "    y = alt.Y(\"hours(endTime):O\", title = \"Hora x Minuto\", axis = alt.Axis(labelPadding=10)),\n",
    "    size = alt.Size(\"count()\", title = \"Número de reproducciones\", legend = None)\n",
    ").properties(\n",
    "    height = 150\n",
    ")"
   ]
  }
 ],
 "metadata": {
  "kernelspec": {
   "display_name": ".venv",
   "language": "python",
   "name": "python3"
  },
  "language_info": {
   "codemirror_mode": {
    "name": "ipython",
    "version": 3
   },
   "file_extension": ".py",
   "mimetype": "text/x-python",
   "name": "python",
   "nbconvert_exporter": "python",
   "pygments_lexer": "ipython3",
   "version": "3.10.6"
  },
  "orig_nbformat": 4,
  "vscode": {
   "interpreter": {
    "hash": "7dbf55fcd1dac334812522e9418417bd6505717ea35f32ebfa070114aaa610f3"
   }
  }
 },
 "nbformat": 4,
 "nbformat_minor": 2
}
